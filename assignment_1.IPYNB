{
 "cells": [
  {
   "cell_type": "code",
   "execution_count": 5,
   "metadata": {},
   "outputs": [],
   "source": [
    "## MOMODOU JALLOW \n",
    "## IS19B00/157\n",
    "## A87113\n",
    "## Deep Learning Practical Assignment 1"
   ]
  },
  {
   "cell_type": "markdown",
   "metadata": {},
   "source": [
    "### 1. Run the code in this section. Change the conditional statement X == Y to X < Y or X > Y, and then see what kind of tensor you can get."
   ]
  },
  {
   "cell_type": "code",
   "execution_count": 1,
   "metadata": {},
   "outputs": [],
   "source": [
    "import torch"
   ]
  },
  {
   "cell_type": "code",
   "execution_count": 2,
   "metadata": {},
   "outputs": [
    {
     "data": {
      "text/plain": [
       "(tensor([[False, False, False],\n",
       "         [False, False, False],\n",
       "         [False, False, False]]),\n",
       " tensor([[False, False, False],\n",
       "         [False, False,  True],\n",
       "         [ True,  True,  True]]),\n",
       " tensor([[ True,  True,  True],\n",
       "         [ True,  True, False],\n",
       "         [False, False, False]]))"
      ]
     },
     "execution_count": 2,
     "metadata": {},
     "output_type": "execute_result"
    }
   ],
   "source": [
    "X = torch.arange(9).reshape(3,3)\n",
    "\n",
    "Y = torch.arange(9, 0, -1).reshape(3,3)\n",
    "\n",
    "X == Y, X > Y, X < Y"
   ]
  },
  {
   "cell_type": "markdown",
   "metadata": {},
   "source": [
    "### \n",
    "2. Replace the two tensors that operate by element in the broadcasting mechanism with other shapes, e.g., 3-dimensional tensors. Is the result the same as expected?\n",
    "\n"
   ]
  },
  {
   "cell_type": "code",
   "execution_count": 4,
   "metadata": {},
   "outputs": [
    {
     "data": {
      "text/plain": [
       "(tensor([[[ 0,  1,  2]],\n",
       " \n",
       "         [[ 3,  4,  5]],\n",
       " \n",
       "         [[ 6,  7,  8]],\n",
       " \n",
       "         [[ 9, 10, 11]],\n",
       " \n",
       "         [[12, 13, 14]]]),\n",
       " tensor([[[ 0,  1,  2,  3,  4]],\n",
       " \n",
       "         [[ 5,  6,  7,  8,  9]],\n",
       " \n",
       "         [[10, 11, 12, 13, 14]]]))"
      ]
     },
     "execution_count": 4,
     "metadata": {},
     "output_type": "execute_result"
    }
   ],
   "source": [
    "a = torch.arange(15).reshape((5, 1, 3))\n",
    "b = torch.arange(15).reshape((3, -1, 5))\n",
    "a, b"
   ]
  },
  {
   "cell_type": "markdown",
   "metadata": {},
   "source": [
    "Yes, the result does match with what I expected as well as with what I learnt in the textbook."
   ]
  },
  {
   "cell_type": "markdown",
   "metadata": {},
   "source": []
  }
 ],
 "metadata": {
  "kernelspec": {
   "display_name": "Python 3",
   "language": "python",
   "name": "python3"
  },
  "language_info": {
   "codemirror_mode": {
    "name": "ipython",
    "version": 3
   },
   "file_extension": ".py",
   "mimetype": "text/x-python",
   "name": "python",
   "nbconvert_exporter": "python",
   "pygments_lexer": "ipython3",
   "version": "3.10.4"
  }
 },
 "nbformat": 4,
 "nbformat_minor": 2
}
